{
 "cells": [
  {
   "cell_type": "code",
   "execution_count": 1,
   "metadata": {},
   "outputs": [],
   "source": [
    "%reload_ext autoreload\n",
    "%autoreload 2\n",
    "\n",
    "from collections import namedtuple\n",
    "import h5py\n",
    "import os\n",
    "import re\n",
    "\n",
    "from genNested import genNested"
   ]
  },
  {
   "cell_type": "code",
   "execution_count": 2,
   "metadata": {},
   "outputs": [],
   "source": [
    "def datasetDict(data):\n",
    "    return dict([\n",
    "        ('data', data)\n",
    "    ])\n",
    "\n",
    "def apiSplit(apipath):\n",
    "    fpath,uri = apipath.split('::')\n",
    "    uri = '/' + uri.lstrip('/')\n",
    "    return fpath,uri\n",
    "\n",
    "_emptyUriRe = re.compile('//')\n",
    "def uriJoin(*parts):\n",
    "    return _emptyUriRe.sub('/', '/'.join(parts))"
   ]
  },
  {
   "cell_type": "code",
   "execution_count": 3,
   "metadata": {},
   "outputs": [],
   "source": [
    "genNested()"
   ]
  },
  {
   "cell_type": "markdown",
   "metadata": {},
   "source": [
    "# get data as slice of dataset"
   ]
  },
  {
   "cell_type": "code",
   "execution_count": 13,
   "metadata": {},
   "outputs": [],
   "source": [
    "def getDatasetHdf(dset, rslice, cslice):\n",
    "    return [datasetDict(dset[rslice, cslice].tolist())]"
   ]
  },
  {
   "cell_type": "code",
   "execution_count": 14,
   "metadata": {},
   "outputs": [],
   "source": [
    "uriPath='/leaf01/leaf02/data02'\n",
    "row = [0, 100]\n",
    "col = [300, 400]\n",
    "\n",
    "with h5py.File('nested.hdf5', 'r') as f:\n",
    "    dsetDicts = getDatasetHdf(f[uriPath], slice(*row), slice(*col))"
   ]
  },
  {
   "cell_type": "code",
   "execution_count": 15,
   "metadata": {},
   "outputs": [
    {
     "name": "stdout",
     "output_type": "stream",
     "text": [
      "[2.0, 2.0, 2.0, 2.0, 2.0, 2.0, 2.0, 2.0, 2.0, 2.0]\n",
      "[35.407799122982865, 464.5239247786953, 258.2616867401414, 70.20300793715828, 925.6305717998657, 389.1392361201503, 551.6482074093389, 447.1184702243429, 241.07875557820137, 554.7477425454465]\n",
      "[327.04552617439606, 644.8542754860589, 310.34625814795527, 112.92912267552113, 847.7744813883064, 497.39612176169334, 786.5217692487054, 887.7192480746243, 372.37774719382145, 598.1892702925345]\n"
     ]
    }
   ],
   "source": [
    "print(dsetDicts[0]['data'][0][:10],\n",
    "      dsetDicts[0]['data'][1][:10],\n",
    "      dsetDicts[0]['data'][-1][:10],\n",
    "      sep='\\n')"
   ]
  },
  {
   "cell_type": "code",
   "execution_count": null,
   "metadata": {},
   "outputs": [],
   "source": []
  }
 ],
 "metadata": {
  "kernelspec": {
   "display_name": "Python 3",
   "language": "python",
   "name": "python3"
  },
  "language_info": {
   "codemirror_mode": {
    "name": "ipython",
    "version": 3
   },
   "file_extension": ".py",
   "mimetype": "text/x-python",
   "name": "python",
   "nbconvert_exporter": "python",
   "pygments_lexer": "ipython3",
   "version": "3.7.3"
  }
 },
 "nbformat": 4,
 "nbformat_minor": 4
}
