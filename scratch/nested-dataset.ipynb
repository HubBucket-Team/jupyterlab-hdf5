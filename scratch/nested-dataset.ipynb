{
 "cells": [
  {
   "cell_type": "code",
   "execution_count": 1,
   "metadata": {},
   "outputs": [],
   "source": [
    "%reload_ext autoreload\n",
    "%autoreload 2\n",
    "\n",
    "from collections import namedtuple\n",
    "import h5py\n",
    "import os\n",
    "import re\n",
    "\n",
    "from genNested import genNested"
   ]
  },
  {
   "cell_type": "code",
   "execution_count": 2,
   "metadata": {},
   "outputs": [],
   "source": [
    "def datasetDict(data):\n",
    "    return dict([\n",
    "        ('data', data)\n",
    "    ])\n",
    "\n",
    "def apiSplit(apipath):\n",
    "    fpath,uri = apipath.split('::')\n",
    "    uri = '/' + uri.lstrip('/')\n",
    "    return fpath,uri\n",
    "\n",
    "_emptyUriRe = re.compile('//')\n",
    "def uriJoin(*parts):\n",
    "    return _emptyUriRe.sub('/', '/'.join(parts))"
   ]
  },
  {
   "cell_type": "code",
   "execution_count": 3,
   "metadata": {},
   "outputs": [],
   "source": [
    "genNested()"
   ]
  },
  {
   "cell_type": "markdown",
   "metadata": {},
   "source": [
    "# get data as slice of dataset"
   ]
  },
  {
   "cell_type": "code",
   "execution_count": 13,
   "metadata": {},
   "outputs": [],
   "source": [
    "def getDatasetHdf(dset, rslice, cslice):\n",
    "    return [datasetDict(dset[rslice, cslice].tolist())]"
   ]
  },
  {
   "cell_type": "code",
   "execution_count": 14,
   "metadata": {},
   "outputs": [],
   "source": [
    "uriPath='/leaf01/leaf02/data02'\n",
    "row = [0, 100]\n",
    "col = [300, 400]\n",
    "\n",
    "with h5py.File('nested.hdf5', 'r') as f:\n",
    "    dsetDicts = getDatasetHdf(f[uriPath], slice(*row), slice(*col))"
   ]
  },
  {
   "cell_type": "code",
   "execution_count": 15,
   "metadata": {},
   "outputs": [
    {
     "name": "stdout",
     "output_type": "stream",
     "text": [
      "[2.0, 2.0, 2.0, 2.0, 2.0, 2.0, 2.0, 2.0, 2.0, 2.0]\n",
      "[35.407799122982865, 464.5239247786953, 258.2616867401414, 70.20300793715828, 925.6305717998657, 389.1392361201503, 551.6482074093389, 447.1184702243429, 241.07875557820137, 554.7477425454465]\n",
      "[327.04552617439606, 644.8542754860589, 310.34625814795527, 112.92912267552113, 847.7744813883064, 497.39612176169334, 786.5217692487054, 887.7192480746243, 372.37774719382145, 598.1892702925345]\n"
     ]
    }
   ],
   "source": [
    "print(dsetDicts[0]['data'][0][:10],\n",
    "      dsetDicts[0]['data'][1][:10],\n",
    "      dsetDicts[0]['data'][-1][:10],\n",
    "      sep='\\n')"
   ]
  },
  {
   "cell_type": "code",
   "execution_count": null,
   "metadata": {},
   "outputs": [],
   "source": []
  },
  {
   "cell_type": "markdown",
   "metadata": {},
   "source": [
    "# misc"
   ]
  },
  {
   "cell_type": "code",
   "execution_count": 12,
   "metadata": {},
   "outputs": [
    {
     "name": "stdout",
     "output_type": "stream",
     "text": [
      "['_MutableMapping__marker', '__abstractmethods__', '__bool__', '__class__', '__contains__', '__delattr__', '__delitem__', '__dict__', '__dir__', '__doc__', '__enter__', '__eq__', '__exit__', '__format__', '__ge__', '__getattribute__', '__getitem__', '__gt__', '__hash__', '__init__', '__init_subclass__', '__iter__', '__le__', '__len__', '__lt__', '__module__', '__ne__', '__new__', '__nonzero__', '__reduce__', '__reduce_ex__', '__repr__', '__reversed__', '__setattr__', '__setitem__', '__sizeof__', '__slots__', '__str__', '__subclasshook__', '__weakref__', '_abc_impl', '_d', '_e', '_gcpl_crt_order', '_id', '_lapl', '_lcpl', 'attrs', 'clear', 'close', 'copy', 'create_dataset', 'create_dataset_like', 'create_group', 'create_virtual_dataset', 'driver', 'fid', 'file', 'filename', 'flush', 'get', 'id', 'items', 'keys', 'libver', 'mode', 'move', 'name', 'parent', 'pop', 'popitem', 'ref', 'regionref', 'require_dataset', 'require_group', 'setdefault', 'swmr_mode', 'update', 'userblock_size', 'values', 'visit', 'visititems']\n",
      "['__bool__', '__class__', '__contains__', '__copy__', '__delattr__', '__dir__', '__doc__', '__eq__', '__format__', '__ge__', '__getattribute__', '__gt__', '__hash__', '__init__', '__init_subclass__', '__iter__', '__le__', '__len__', '__lt__', '__ne__', '__new__', '__reduce__', '__reduce_ex__', '__repr__', '__setattr__', '__setstate__', '__sizeof__', '__str__', '__subclasshook__', '_close', 'close', 'fileno', 'get_access_plist', 'get_comment', 'get_create_plist', 'get_file_image', 'get_filesize', 'get_freespace', 'get_intent', 'get_linkval', 'get_mdc_config', 'get_mdc_hit_rate', 'get_mdc_size', 'get_num_objs', 'get_objname_by_idx', 'get_objtype_by_idx', 'get_vfd_handle', 'id', 'link', 'links', 'locked', 'move', 'name', 'reopen', 'reset_mdc_hit_rate_stats', 'set_comment', 'set_mdc_config', 'start_swmr_write', 'unlink', 'valid']\n",
      "['__bool__', '__class__', '__contains__', '__copy__', '__delattr__', '__dir__', '__doc__', '__eq__', '__format__', '__ge__', '__getattribute__', '__gt__', '__hash__', '__init__', '__init_subclass__', '__iter__', '__le__', '__len__', '__lt__', '__ne__', '__new__', '__reduce__', '__reduce_ex__', '__repr__', '__setattr__', '__setstate__', '__sizeof__', '__str__', '__subclasshook__', '_close', 'close', 'fileno', 'get_comment', 'get_create_plist', 'get_linkval', 'get_num_objs', 'get_objname_by_idx', 'get_objtype_by_idx', 'id', 'link', 'links', 'locked', 'move', 'set_comment', 'unlink', 'valid']\n"
     ]
    }
   ],
   "source": [
    "import h5py\n",
    "\n",
    "dsetPth='/leaf01/leaf02/data02'\n",
    "grpPth = '/leaf01/leaf02'\n",
    "\n",
    "with h5py.File('nested.hdf5', 'r') as f:\n",
    "    dset = f[dsetPth]\n",
    "    grp = f[grpPth]\n",
    "    \n",
    "#     print(dir(grp))\n",
    "    print(dir(grp.file))\n",
    "    print(dir(grp.file.id))\n",
    "    print(dir(grp.id))"
   ]
  },
  {
   "cell_type": "code",
   "execution_count": null,
   "metadata": {},
   "outputs": [],
   "source": []
  }
 ],
 "metadata": {
  "kernelspec": {
   "display_name": "Python 3",
   "language": "python",
   "name": "python3"
  },
  "language_info": {
   "codemirror_mode": {
    "name": "ipython",
    "version": 3
   },
   "file_extension": ".py",
   "mimetype": "text/x-python",
   "name": "python",
   "nbconvert_exporter": "python",
   "pygments_lexer": "ipython3",
   "version": "3.7.3"
  }
 },
 "nbformat": 4,
 "nbformat_minor": 4
}
